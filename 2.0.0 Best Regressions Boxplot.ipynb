{
 "cells": [
  {
   "attachments": {},
   "cell_type": "markdown",
   "metadata": {},
   "source": [
    "# Boxplots on Accuracy"
   ]
  },
  {
   "cell_type": "code",
   "execution_count": 1,
   "metadata": {
    "collapsed": true
   },
   "outputs": [
    {
     "name": "stderr",
     "output_type": "stream",
     "text": [
      "c:\\Users\\alexa\\mambaforge\\envs\\machinelearning2\\Lib\\site-packages\\umap\\distances.py:1063: NumbaDeprecationWarning: \u001b[1mThe 'nopython' keyword argument was not supplied to the 'numba.jit' decorator. The implicit default value for this argument is currently False, but it will be changed to True in Numba 0.59.0. See https://numba.readthedocs.io/en/stable/reference/deprecation.html#deprecation-of-object-mode-fall-back-behaviour-when-using-jit for details.\u001b[0m\n",
      "  @numba.jit()\n",
      "c:\\Users\\alexa\\mambaforge\\envs\\machinelearning2\\Lib\\site-packages\\umap\\distances.py:1071: NumbaDeprecationWarning: \u001b[1mThe 'nopython' keyword argument was not supplied to the 'numba.jit' decorator. The implicit default value for this argument is currently False, but it will be changed to True in Numba 0.59.0. See https://numba.readthedocs.io/en/stable/reference/deprecation.html#deprecation-of-object-mode-fall-back-behaviour-when-using-jit for details.\u001b[0m\n",
      "  @numba.jit()\n",
      "c:\\Users\\alexa\\mambaforge\\envs\\machinelearning2\\Lib\\site-packages\\umap\\distances.py:1086: NumbaDeprecationWarning: \u001b[1mThe 'nopython' keyword argument was not supplied to the 'numba.jit' decorator. The implicit default value for this argument is currently False, but it will be changed to True in Numba 0.59.0. See https://numba.readthedocs.io/en/stable/reference/deprecation.html#deprecation-of-object-mode-fall-back-behaviour-when-using-jit for details.\u001b[0m\n",
      "  @numba.jit()\n",
      "c:\\Users\\alexa\\mambaforge\\envs\\machinelearning2\\Lib\\site-packages\\tqdm\\auto.py:21: TqdmWarning: IProgress not found. Please update jupyter and ipywidgets. See https://ipywidgets.readthedocs.io/en/stable/user_install.html\n",
      "  from .autonotebook import tqdm as notebook_tqdm\n",
      "c:\\Users\\alexa\\mambaforge\\envs\\machinelearning2\\Lib\\site-packages\\umap\\umap_.py:660: NumbaDeprecationWarning: \u001b[1mThe 'nopython' keyword argument was not supplied to the 'numba.jit' decorator. The implicit default value for this argument is currently False, but it will be changed to True in Numba 0.59.0. See https://numba.readthedocs.io/en/stable/reference/deprecation.html#deprecation-of-object-mode-fall-back-behaviour-when-using-jit for details.\u001b[0m\n",
      "  @numba.jit()\n"
     ]
    }
   ],
   "source": [
    "from sklearn.ensemble import GradientBoostingClassifier\n",
    "import pandas as pd\n",
    "import matplotlib.pyplot as plt\n",
    "from sklearn.ensemble import RandomForestClassifier\n",
    "import numpy as np\n",
    "import seaborn as sns\n",
    "from sklearn import preprocessing\n",
    "from sklearn.model_selection import cross_val_score\n",
    "from sklearn.tree import DecisionTreeClassifier\n",
    "from sklearn.svm import SVR\n",
    "from sklearn.neighbors import KNeighborsClassifier\n",
    "from sklearn.linear_model import LinearRegression\n",
    "from xgboost import XGBClassifier\n",
    "from sklearn.neural_network import MLPClassifier\n",
    "from DataProcessing import DataProcessing\n",
    "from Models import Models\n",
    "from Visualization import Visualization \n",
    "import pandas as pd\n",
    "from sklearn.svm import LinearSVC\n",
    "import numpy as np"
   ]
  },
  {
   "cell_type": "code",
   "execution_count": 2,
   "metadata": {},
   "outputs": [],
   "source": [
    "processData = DataProcessing()\n",
    "models = Models()\n",
    "viz = Visualization()"
   ]
  },
  {
   "cell_type": "code",
   "execution_count": 3,
   "metadata": {},
   "outputs": [
    {
     "data": {
      "text/html": [
       "<div>\n",
       "<style scoped>\n",
       "    .dataframe tbody tr th:only-of-type {\n",
       "        vertical-align: middle;\n",
       "    }\n",
       "\n",
       "    .dataframe tbody tr th {\n",
       "        vertical-align: top;\n",
       "    }\n",
       "\n",
       "    .dataframe thead th {\n",
       "        text-align: right;\n",
       "    }\n",
       "</style>\n",
       "<table border=\"1\" class=\"dataframe\">\n",
       "  <thead>\n",
       "    <tr style=\"text-align: right;\">\n",
       "      <th></th>\n",
       "      <th>category</th>\n",
       "      <th>0</th>\n",
       "      <th>1</th>\n",
       "      <th>2</th>\n",
       "      <th>3</th>\n",
       "      <th>4</th>\n",
       "      <th>5</th>\n",
       "      <th>6</th>\n",
       "      <th>7</th>\n",
       "      <th>8</th>\n",
       "      <th>...</th>\n",
       "      <th>2490</th>\n",
       "      <th>2491</th>\n",
       "      <th>2492</th>\n",
       "      <th>2493</th>\n",
       "      <th>2494</th>\n",
       "      <th>2495</th>\n",
       "      <th>2496</th>\n",
       "      <th>2497</th>\n",
       "      <th>2498</th>\n",
       "      <th>2499</th>\n",
       "    </tr>\n",
       "  </thead>\n",
       "  <tbody>\n",
       "    <tr>\n",
       "      <th>0</th>\n",
       "      <td>trade</td>\n",
       "      <td>0.050147</td>\n",
       "      <td>0.037281</td>\n",
       "      <td>-0.000206</td>\n",
       "      <td>0.242878</td>\n",
       "      <td>-0.019266</td>\n",
       "      <td>0.054649</td>\n",
       "      <td>-0.020230</td>\n",
       "      <td>-0.045969</td>\n",
       "      <td>-0.044232</td>\n",
       "      <td>...</td>\n",
       "      <td>0.004589</td>\n",
       "      <td>0.012180</td>\n",
       "      <td>0.006886</td>\n",
       "      <td>0.021858</td>\n",
       "      <td>0.006857</td>\n",
       "      <td>-0.005808</td>\n",
       "      <td>-0.014058</td>\n",
       "      <td>-0.001934</td>\n",
       "      <td>-0.010196</td>\n",
       "      <td>-0.004465</td>\n",
       "    </tr>\n",
       "    <tr>\n",
       "      <th>1</th>\n",
       "      <td>grain</td>\n",
       "      <td>0.021183</td>\n",
       "      <td>0.014576</td>\n",
       "      <td>-0.001260</td>\n",
       "      <td>0.114523</td>\n",
       "      <td>-0.041558</td>\n",
       "      <td>-0.027538</td>\n",
       "      <td>-0.023979</td>\n",
       "      <td>-0.015300</td>\n",
       "      <td>-0.006086</td>\n",
       "      <td>...</td>\n",
       "      <td>-0.008810</td>\n",
       "      <td>-0.000057</td>\n",
       "      <td>-0.005380</td>\n",
       "      <td>-0.002163</td>\n",
       "      <td>-0.006804</td>\n",
       "      <td>0.004270</td>\n",
       "      <td>-0.007070</td>\n",
       "      <td>0.015339</td>\n",
       "      <td>-0.007966</td>\n",
       "      <td>-0.013620</td>\n",
       "    </tr>\n",
       "    <tr>\n",
       "      <th>2</th>\n",
       "      <td>ship</td>\n",
       "      <td>0.007862</td>\n",
       "      <td>0.044202</td>\n",
       "      <td>0.003082</td>\n",
       "      <td>0.049880</td>\n",
       "      <td>-0.017624</td>\n",
       "      <td>-0.010744</td>\n",
       "      <td>-0.014257</td>\n",
       "      <td>-0.009725</td>\n",
       "      <td>-0.004609</td>\n",
       "      <td>...</td>\n",
       "      <td>-0.002411</td>\n",
       "      <td>0.001157</td>\n",
       "      <td>-0.003238</td>\n",
       "      <td>0.003287</td>\n",
       "      <td>-0.003531</td>\n",
       "      <td>-0.009195</td>\n",
       "      <td>-0.002388</td>\n",
       "      <td>-0.004788</td>\n",
       "      <td>-0.004020</td>\n",
       "      <td>0.004342</td>\n",
       "    </tr>\n",
       "    <tr>\n",
       "      <th>3</th>\n",
       "      <td>gold</td>\n",
       "      <td>0.020363</td>\n",
       "      <td>0.015643</td>\n",
       "      <td>0.002258</td>\n",
       "      <td>0.143045</td>\n",
       "      <td>-0.052395</td>\n",
       "      <td>-0.050786</td>\n",
       "      <td>-0.031452</td>\n",
       "      <td>-0.011667</td>\n",
       "      <td>-0.003362</td>\n",
       "      <td>...</td>\n",
       "      <td>0.005801</td>\n",
       "      <td>-0.004264</td>\n",
       "      <td>0.001425</td>\n",
       "      <td>-0.001591</td>\n",
       "      <td>0.011838</td>\n",
       "      <td>0.001932</td>\n",
       "      <td>0.000462</td>\n",
       "      <td>-0.002208</td>\n",
       "      <td>-0.002273</td>\n",
       "      <td>-0.007710</td>\n",
       "    </tr>\n",
       "    <tr>\n",
       "      <th>4</th>\n",
       "      <td>acq</td>\n",
       "      <td>0.022503</td>\n",
       "      <td>0.047837</td>\n",
       "      <td>-0.000685</td>\n",
       "      <td>0.183852</td>\n",
       "      <td>-0.055569</td>\n",
       "      <td>-0.027396</td>\n",
       "      <td>-0.037585</td>\n",
       "      <td>-0.025369</td>\n",
       "      <td>-0.006175</td>\n",
       "      <td>...</td>\n",
       "      <td>-0.006922</td>\n",
       "      <td>-0.005740</td>\n",
       "      <td>-0.006100</td>\n",
       "      <td>-0.009349</td>\n",
       "      <td>-0.006354</td>\n",
       "      <td>0.005881</td>\n",
       "      <td>-0.001204</td>\n",
       "      <td>-0.012043</td>\n",
       "      <td>-0.011142</td>\n",
       "      <td>-0.001299</td>\n",
       "    </tr>\n",
       "  </tbody>\n",
       "</table>\n",
       "<p>5 rows × 2501 columns</p>\n",
       "</div>"
      ],
      "text/plain": [
       "  category         0         1         2         3         4         5   \n",
       "0    trade  0.050147  0.037281 -0.000206  0.242878 -0.019266  0.054649  \\\n",
       "1    grain  0.021183  0.014576 -0.001260  0.114523 -0.041558 -0.027538   \n",
       "2     ship  0.007862  0.044202  0.003082  0.049880 -0.017624 -0.010744   \n",
       "3     gold  0.020363  0.015643  0.002258  0.143045 -0.052395 -0.050786   \n",
       "4      acq  0.022503  0.047837 -0.000685  0.183852 -0.055569 -0.027396   \n",
       "\n",
       "          6         7         8  ...      2490      2491      2492      2493   \n",
       "0 -0.020230 -0.045969 -0.044232  ...  0.004589  0.012180  0.006886  0.021858  \\\n",
       "1 -0.023979 -0.015300 -0.006086  ... -0.008810 -0.000057 -0.005380 -0.002163   \n",
       "2 -0.014257 -0.009725 -0.004609  ... -0.002411  0.001157 -0.003238  0.003287   \n",
       "3 -0.031452 -0.011667 -0.003362  ...  0.005801 -0.004264  0.001425 -0.001591   \n",
       "4 -0.037585 -0.025369 -0.006175  ... -0.006922 -0.005740 -0.006100 -0.009349   \n",
       "\n",
       "       2494      2495      2496      2497      2498      2499  \n",
       "0  0.006857 -0.005808 -0.014058 -0.001934 -0.010196 -0.004465  \n",
       "1 -0.006804  0.004270 -0.007070  0.015339 -0.007966 -0.013620  \n",
       "2 -0.003531 -0.009195 -0.002388 -0.004788 -0.004020  0.004342  \n",
       "3  0.011838  0.001932  0.000462 -0.002208 -0.002273 -0.007710  \n",
       "4 -0.006354  0.005881 -0.001204 -0.012043 -0.011142 -0.001299  \n",
       "\n",
       "[5 rows x 2501 columns]"
      ]
     },
     "execution_count": 3,
     "metadata": {},
     "output_type": "execute_result"
    }
   ],
   "source": [
    "lsa_category = processData.fullGenerate()\n",
    "lsa_category.head()"
   ]
  },
  {
   "attachments": {},
   "cell_type": "markdown",
   "metadata": {
    "collapsed": false
   },
   "source": [
    "Since the training data has one additional column, containing the sale price of the house with its given parameters, we split the dataframe into the X_train and y_train dataframes to continue with the calculations."
   ]
  },
  {
   "cell_type": "code",
   "execution_count": 4,
   "metadata": {
    "collapsed": false
   },
   "outputs": [
    {
     "data": {
      "text/plain": [
       "(6588, 2500)"
      ]
     },
     "metadata": {},
     "output_type": "display_data"
    },
    {
     "data": {
      "text/html": [
       "<div>\n",
       "<style scoped>\n",
       "    .dataframe tbody tr th:only-of-type {\n",
       "        vertical-align: middle;\n",
       "    }\n",
       "\n",
       "    .dataframe tbody tr th {\n",
       "        vertical-align: top;\n",
       "    }\n",
       "\n",
       "    .dataframe thead th {\n",
       "        text-align: right;\n",
       "    }\n",
       "</style>\n",
       "<table border=\"1\" class=\"dataframe\">\n",
       "  <thead>\n",
       "    <tr style=\"text-align: right;\">\n",
       "      <th></th>\n",
       "      <th>0</th>\n",
       "      <th>1</th>\n",
       "      <th>2</th>\n",
       "      <th>3</th>\n",
       "      <th>4</th>\n",
       "      <th>5</th>\n",
       "      <th>6</th>\n",
       "      <th>7</th>\n",
       "      <th>8</th>\n",
       "      <th>9</th>\n",
       "      <th>...</th>\n",
       "      <th>2490</th>\n",
       "      <th>2491</th>\n",
       "      <th>2492</th>\n",
       "      <th>2493</th>\n",
       "      <th>2494</th>\n",
       "      <th>2495</th>\n",
       "      <th>2496</th>\n",
       "      <th>2497</th>\n",
       "      <th>2498</th>\n",
       "      <th>2499</th>\n",
       "    </tr>\n",
       "  </thead>\n",
       "  <tbody>\n",
       "    <tr>\n",
       "      <th>4208</th>\n",
       "      <td>0.014124</td>\n",
       "      <td>0.022032</td>\n",
       "      <td>0.000202</td>\n",
       "      <td>0.129069</td>\n",
       "      <td>-0.033199</td>\n",
       "      <td>-0.031122</td>\n",
       "      <td>-0.032259</td>\n",
       "      <td>-0.001634</td>\n",
       "      <td>-0.017049</td>\n",
       "      <td>-0.139746</td>\n",
       "      <td>...</td>\n",
       "      <td>-0.003751</td>\n",
       "      <td>-0.012493</td>\n",
       "      <td>-0.004122</td>\n",
       "      <td>0.004830</td>\n",
       "      <td>-0.018533</td>\n",
       "      <td>0.009522</td>\n",
       "      <td>-0.004084</td>\n",
       "      <td>-0.009241</td>\n",
       "      <td>0.002283</td>\n",
       "      <td>-0.019096</td>\n",
       "    </tr>\n",
       "    <tr>\n",
       "      <th>4678</th>\n",
       "      <td>0.018996</td>\n",
       "      <td>0.019213</td>\n",
       "      <td>-0.002918</td>\n",
       "      <td>0.126976</td>\n",
       "      <td>-0.035381</td>\n",
       "      <td>-0.040067</td>\n",
       "      <td>-0.026183</td>\n",
       "      <td>0.006312</td>\n",
       "      <td>-0.010259</td>\n",
       "      <td>0.017905</td>\n",
       "      <td>...</td>\n",
       "      <td>0.014890</td>\n",
       "      <td>-0.004028</td>\n",
       "      <td>-0.002840</td>\n",
       "      <td>0.006091</td>\n",
       "      <td>0.015081</td>\n",
       "      <td>0.001336</td>\n",
       "      <td>0.019071</td>\n",
       "      <td>-0.014700</td>\n",
       "      <td>-0.011338</td>\n",
       "      <td>0.006193</td>\n",
       "    </tr>\n",
       "    <tr>\n",
       "      <th>3926</th>\n",
       "      <td>0.015057</td>\n",
       "      <td>0.018183</td>\n",
       "      <td>0.000897</td>\n",
       "      <td>0.076622</td>\n",
       "      <td>-0.033383</td>\n",
       "      <td>-0.043458</td>\n",
       "      <td>-0.018747</td>\n",
       "      <td>0.011470</td>\n",
       "      <td>-0.002067</td>\n",
       "      <td>0.011584</td>\n",
       "      <td>...</td>\n",
       "      <td>0.004838</td>\n",
       "      <td>0.003267</td>\n",
       "      <td>-0.004192</td>\n",
       "      <td>0.007115</td>\n",
       "      <td>0.018579</td>\n",
       "      <td>0.000494</td>\n",
       "      <td>-0.000997</td>\n",
       "      <td>-0.003308</td>\n",
       "      <td>-0.001965</td>\n",
       "      <td>-0.011518</td>\n",
       "    </tr>\n",
       "    <tr>\n",
       "      <th>7266</th>\n",
       "      <td>0.023574</td>\n",
       "      <td>0.016856</td>\n",
       "      <td>0.006679</td>\n",
       "      <td>0.146733</td>\n",
       "      <td>-0.054751</td>\n",
       "      <td>-0.078197</td>\n",
       "      <td>-0.019898</td>\n",
       "      <td>0.008121</td>\n",
       "      <td>0.002367</td>\n",
       "      <td>0.031456</td>\n",
       "      <td>...</td>\n",
       "      <td>-0.004390</td>\n",
       "      <td>0.009147</td>\n",
       "      <td>0.000076</td>\n",
       "      <td>-0.006831</td>\n",
       "      <td>0.008302</td>\n",
       "      <td>0.003066</td>\n",
       "      <td>0.010676</td>\n",
       "      <td>0.003814</td>\n",
       "      <td>-0.000383</td>\n",
       "      <td>-0.001816</td>\n",
       "    </tr>\n",
       "    <tr>\n",
       "      <th>1476</th>\n",
       "      <td>0.010538</td>\n",
       "      <td>0.029673</td>\n",
       "      <td>0.000898</td>\n",
       "      <td>0.084730</td>\n",
       "      <td>-0.036193</td>\n",
       "      <td>-0.036824</td>\n",
       "      <td>-0.026698</td>\n",
       "      <td>-0.007302</td>\n",
       "      <td>-0.002345</td>\n",
       "      <td>-0.061057</td>\n",
       "      <td>...</td>\n",
       "      <td>0.004218</td>\n",
       "      <td>-0.001508</td>\n",
       "      <td>0.013897</td>\n",
       "      <td>-0.002652</td>\n",
       "      <td>0.000263</td>\n",
       "      <td>0.003560</td>\n",
       "      <td>0.017115</td>\n",
       "      <td>-0.000201</td>\n",
       "      <td>0.010323</td>\n",
       "      <td>-0.000466</td>\n",
       "    </tr>\n",
       "  </tbody>\n",
       "</table>\n",
       "<p>5 rows × 2500 columns</p>\n",
       "</div>"
      ],
      "text/plain": [
       "          0         1         2         3         4         5         6      \n",
       "4208  0.014124  0.022032  0.000202  0.129069 -0.033199 -0.031122 -0.032259  \\\n",
       "4678  0.018996  0.019213 -0.002918  0.126976 -0.035381 -0.040067 -0.026183   \n",
       "3926  0.015057  0.018183  0.000897  0.076622 -0.033383 -0.043458 -0.018747   \n",
       "7266  0.023574  0.016856  0.006679  0.146733 -0.054751 -0.078197 -0.019898   \n",
       "1476  0.010538  0.029673  0.000898  0.084730 -0.036193 -0.036824 -0.026698   \n",
       "\n",
       "          7         8         9     ...      2490      2491      2492   \n",
       "4208 -0.001634 -0.017049 -0.139746  ... -0.003751 -0.012493 -0.004122  \\\n",
       "4678  0.006312 -0.010259  0.017905  ...  0.014890 -0.004028 -0.002840   \n",
       "3926  0.011470 -0.002067  0.011584  ...  0.004838  0.003267 -0.004192   \n",
       "7266  0.008121  0.002367  0.031456  ... -0.004390  0.009147  0.000076   \n",
       "1476 -0.007302 -0.002345 -0.061057  ...  0.004218 -0.001508  0.013897   \n",
       "\n",
       "          2493      2494      2495      2496      2497      2498      2499  \n",
       "4208  0.004830 -0.018533  0.009522 -0.004084 -0.009241  0.002283 -0.019096  \n",
       "4678  0.006091  0.015081  0.001336  0.019071 -0.014700 -0.011338  0.006193  \n",
       "3926  0.007115  0.018579  0.000494 -0.000997 -0.003308 -0.001965 -0.011518  \n",
       "7266 -0.006831  0.008302  0.003066  0.010676  0.003814 -0.000383 -0.001816  \n",
       "1476 -0.002652  0.000263  0.003560  0.017115 -0.000201  0.010323 -0.000466  \n",
       "\n",
       "[5 rows x 2500 columns]"
      ]
     },
     "metadata": {},
     "output_type": "display_data"
    },
    {
     "data": {
      "text/plain": [
       "(6588,)"
      ]
     },
     "metadata": {},
     "output_type": "display_data"
    },
    {
     "data": {
      "text/plain": [
       "4208    trade\n",
       "4678      acq\n",
       "3926      acq\n",
       "7266      acq\n",
       "1476    crude\n",
       "Name: category, dtype: object"
      ]
     },
     "metadata": {},
     "output_type": "display_data"
    }
   ],
   "source": [
    "X, y, X_train, X_test, y_train, y_test = processData.splitDataFrame(lsa_category)\n",
    "X_Encoded, y_Encoded, X_train_Encoded, X_test_Encoded, y_train_Encoded, y_test_Encoded = processData.splitDataFrameEncoded(lsa_category)\n",
    "nodeCount = y.nunique()\n",
    "modelResults = {}\n",
    "display(X_train.shape, X_train.head(), y_train.shape, y_train.head())"
   ]
  },
  {
   "attachments": {},
   "cell_type": "markdown",
   "metadata": {
    "collapsed": false
   },
   "source": [
    "# Scoring various Regression Models to verify which we will be using going forward"
   ]
  },
  {
   "cell_type": "code",
   "execution_count": 5,
   "metadata": {
    "collapsed": false
   },
   "outputs": [],
   "source": [
    "# min_max_scaler = preprocessing.MinMaxScaler()\n",
    "# x_scaled = min_max_scaler.fit_transform(X_train)\n",
    "# y = np.log1p(y_train)\n",
    "cross_validation = 10\n",
    "scores_map = {}"
   ]
  },
  {
   "attachments": {},
   "cell_type": "markdown",
   "metadata": {
    "collapsed": false
   },
   "source": [
    "##### Random Forest Regressor"
   ]
  },
  {
   "cell_type": "code",
   "execution_count": 6,
   "metadata": {
    "collapsed": false
   },
   "outputs": [
    {
     "name": "stdout",
     "output_type": "stream",
     "text": [
      "Acc: 0.7795972067837887 (+/- 0.013194231860214968)\n"
     ]
    }
   ],
   "source": [
    "forest = RandomForestClassifier(max_depth= 20, min_samples_leaf= 1, min_samples_split= 2, n_estimators= 200)\n",
    "\n",
    "scores = cross_val_score(forest, X_train, y_train, cv=cross_validation, scoring='accuracy', n_jobs=-1)\n",
    "print(f\"Acc: {scores.mean()} (+/- {scores.std()})\")\n",
    "\n",
    "scores_map['RF'] = scores"
   ]
  },
  {
   "attachments": {},
   "cell_type": "markdown",
   "metadata": {
    "collapsed": false
   },
   "source": [
    "##### Linear Regression"
   ]
  },
  {
   "cell_type": "code",
   "execution_count": 9,
   "metadata": {
    "collapsed": false
   },
   "outputs": [
    {
     "name": "stdout",
     "output_type": "stream",
     "text": [
      "Acc: 0.9555237049780685 (+/- 0.006628509564853599)\n"
     ]
    }
   ],
   "source": [
    "clf = LinearSVC(C= 1, dual= True, fit_intercept=False, loss='squared_hinge', multi_class= 'crammer_singer', penalty= 'l1')\n",
    "\n",
    "scores = cross_val_score(clf, X_train, y_train, cv=cross_validation, scoring='accuracy', n_jobs=-1)\n",
    "print(f\"Acc: {scores.mean()} (+/- {scores.std()})\")\n",
    "\n",
    "scores_map['Linear'] = scores"
   ]
  },
  {
   "attachments": {},
   "cell_type": "markdown",
   "metadata": {
    "collapsed": false
   },
   "source": [
    "##### Multilayer Perceptron Regressor"
   ]
  },
  {
   "cell_type": "code",
   "execution_count": 10,
   "metadata": {
    "collapsed": false
   },
   "outputs": [
    {
     "name": "stdout",
     "output_type": "stream",
     "text": [
      "Acc: 0.939588166652061 (+/- 0.00616545275955343)\n"
     ]
    }
   ],
   "source": [
    "mlp_classifier = MLPClassifier(max_iter=1000)\n",
    "\n",
    "scores = cross_val_score(estimator=mlp_classifier,\n",
    "                         X=X_train, y=y_train,\n",
    "                         cv=cross_validation,\n",
    "                         scoring='accuracy', n_jobs=-1)\n",
    "print(f\"Acc: {scores.mean()} (+/- {scores.std()})\")\n",
    "\n",
    "scores_map['MLP'] = scores"
   ]
  },
  {
   "attachments": {},
   "cell_type": "markdown",
   "metadata": {},
   "source": [
    "XGBOOST"
   ]
  },
  {
   "cell_type": "code",
   "execution_count": 11,
   "metadata": {},
   "outputs": [],
   "source": [
    "from sklearn.preprocessing import LabelEncoder\n",
    "le = LabelEncoder()\n",
    "y_transformed = le.fit_transform(y_train)"
   ]
  },
  {
   "cell_type": "code",
   "execution_count": 12,
   "metadata": {},
   "outputs": [
    {
     "name": "stdout",
     "output_type": "stream",
     "text": [
      "Acc: 0.9184879918454323 (+/- 0.004353433370143552)\n"
     ]
    }
   ],
   "source": [
    "xgboost = XGBClassifier(\n",
    "    max_depth=3,\n",
    "    learning_rate=0.1,\n",
    "    n_estimators=100,\n",
    "    verbosity=1,\n",
    "    objective='binary:logistic',\n",
    "    booster='gbtree')\n",
    "\n",
    "scores = cross_val_score(xgboost, X_train, y_transformed, cv=cross_validation, scoring='accuracy', n_jobs=-1)\n",
    "print(f\"Acc: {scores.mean()} (+/- {scores.std()})\")\n",
    "\n",
    "scores_map['XGB'] = scores"
   ]
  },
  {
   "cell_type": "code",
   "execution_count": 15,
   "metadata": {},
   "outputs": [],
   "source": [
    "#scores_map['XGB'] = np.repeat(scores, 5)"
   ]
  },
  {
   "cell_type": "code",
   "execution_count": 16,
   "metadata": {},
   "outputs": [
    {
     "data": {
      "text/html": [
       "<div>\n",
       "<style scoped>\n",
       "    .dataframe tbody tr th:only-of-type {\n",
       "        vertical-align: middle;\n",
       "    }\n",
       "\n",
       "    .dataframe tbody tr th {\n",
       "        vertical-align: top;\n",
       "    }\n",
       "\n",
       "    .dataframe thead th {\n",
       "        text-align: right;\n",
       "    }\n",
       "</style>\n",
       "<table border=\"1\" class=\"dataframe\">\n",
       "  <thead>\n",
       "    <tr style=\"text-align: right;\">\n",
       "      <th></th>\n",
       "      <th>RF</th>\n",
       "      <th>Linear</th>\n",
       "      <th>MLP</th>\n",
       "      <th>XGB</th>\n",
       "    </tr>\n",
       "  </thead>\n",
       "  <tbody>\n",
       "    <tr>\n",
       "      <th>0</th>\n",
       "      <td>0.784522</td>\n",
       "      <td>0.955994</td>\n",
       "      <td>0.937785</td>\n",
       "      <td>0.913505</td>\n",
       "    </tr>\n",
       "    <tr>\n",
       "      <th>1</th>\n",
       "      <td>0.783005</td>\n",
       "      <td>0.951442</td>\n",
       "      <td>0.934750</td>\n",
       "      <td>0.915023</td>\n",
       "    </tr>\n",
       "    <tr>\n",
       "      <th>2</th>\n",
       "      <td>0.764795</td>\n",
       "      <td>0.966616</td>\n",
       "      <td>0.933232</td>\n",
       "      <td>0.921093</td>\n",
       "    </tr>\n",
       "    <tr>\n",
       "      <th>3</th>\n",
       "      <td>0.784522</td>\n",
       "      <td>0.955994</td>\n",
       "      <td>0.951442</td>\n",
       "      <td>0.913505</td>\n",
       "    </tr>\n",
       "    <tr>\n",
       "      <th>4</th>\n",
       "      <td>0.776935</td>\n",
       "      <td>0.951442</td>\n",
       "      <td>0.943854</td>\n",
       "      <td>0.924127</td>\n",
       "    </tr>\n",
       "    <tr>\n",
       "      <th>5</th>\n",
       "      <td>0.810319</td>\n",
       "      <td>0.957511</td>\n",
       "      <td>0.930197</td>\n",
       "      <td>0.919575</td>\n",
       "    </tr>\n",
       "    <tr>\n",
       "      <th>6</th>\n",
       "      <td>0.773900</td>\n",
       "      <td>0.948407</td>\n",
       "      <td>0.934750</td>\n",
       "      <td>0.921093</td>\n",
       "    </tr>\n",
       "    <tr>\n",
       "      <th>7</th>\n",
       "      <td>0.772382</td>\n",
       "      <td>0.966616</td>\n",
       "      <td>0.943854</td>\n",
       "      <td>0.921093</td>\n",
       "    </tr>\n",
       "    <tr>\n",
       "      <th>8</th>\n",
       "      <td>0.785714</td>\n",
       "      <td>0.945289</td>\n",
       "      <td>0.943769</td>\n",
       "      <td>0.924012</td>\n",
       "    </tr>\n",
       "    <tr>\n",
       "      <th>9</th>\n",
       "      <td>0.759878</td>\n",
       "      <td>0.955927</td>\n",
       "      <td>0.942249</td>\n",
       "      <td>0.911854</td>\n",
       "    </tr>\n",
       "  </tbody>\n",
       "</table>\n",
       "</div>"
      ],
      "text/plain": [
       "         RF    Linear       MLP       XGB\n",
       "0  0.784522  0.955994  0.937785  0.913505\n",
       "1  0.783005  0.951442  0.934750  0.915023\n",
       "2  0.764795  0.966616  0.933232  0.921093\n",
       "3  0.784522  0.955994  0.951442  0.913505\n",
       "4  0.776935  0.951442  0.943854  0.924127\n",
       "5  0.810319  0.957511  0.930197  0.919575\n",
       "6  0.773900  0.948407  0.934750  0.921093\n",
       "7  0.772382  0.966616  0.943854  0.921093\n",
       "8  0.785714  0.945289  0.943769  0.924012\n",
       "9  0.759878  0.955927  0.942249  0.911854"
      ]
     },
     "execution_count": 16,
     "metadata": {},
     "output_type": "execute_result"
    }
   ],
   "source": [
    "scores_map = pd.DataFrame(scores_map)\n",
    "scores_map"
   ]
  },
  {
   "cell_type": "code",
   "execution_count": 21,
   "metadata": {
    "collapsed": false
   },
   "outputs": [
    {
     "data": {
      "text/plain": [
       "Text(0.5, 1.0, 'Accuracy of the 3 Best Models')"
      ]
     },
     "execution_count": 21,
     "metadata": {},
     "output_type": "execute_result"
    },
    {
     "data": {
      "image/png": "[encoded data removed]",
      "text/plain": [
       "<Figure size 1000x600 with 1 Axes>"
      ]
     },
     "metadata": {},
     "output_type": "display_data"
    }
   ],
   "source": [
    "sns.set_context(\"talk\")\n",
    "sns.set_style('whitegrid')\n",
    "plt.figure(figsize=(10, 6))\n",
    "sns.boxplot(data=scores_map.loc[:, [\"Linear\", \"MLP\", \"XGB\"]])\n",
    "# plt.ylim(-.05, -.01)\n",
    "plt.ylabel(r\"Accuracy Score\")\n",
    "plt.xlabel(r\"Model\")\n",
    "plt.title(\"Accuracy of the 3 Best Models\")"
   ]
  },
  {
   "attachments": {},
   "cell_type": "markdown",
   "metadata": {
    "collapsed": false
   },
   "source": []
  },
  {
   "cell_type": "code",
   "execution_count": null,
   "metadata": {},
   "outputs": [],
   "source": []
  }
 ],
 "metadata": {
  "kernelspec": {
   "display_name": "Python 3",
   "language": "python",
   "name": "python3"
  },
  "language_info": {
   "codemirror_mode": {
    "name": "ipython",
    "version": 3
   },
   "file_extension": ".py",
   "mimetype": "text/x-python",
   "name": "python",
   "nbconvert_exporter": "python",
   "pygments_lexer": "ipython3",
   "version": "3.11.3"
  }
 },
 "nbformat": 4,
 "nbformat_minor": 0
}
