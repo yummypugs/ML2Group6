{
 "cells": [
  {
   "attachments": {},
   "cell_type": "markdown",
   "metadata": {
    "datalore": {
     "hide_input_from_viewers": false,
     "hide_output_from_viewers": false,
     "node_id": "fPNNhkBK0VJZFbeN2cKnaV",
     "report_properties": {
      "rowId": "u6LTQPlOHwjW8QonAlWPRw"
     },
     "type": "MD"
    }
   },
   "source": [
    "# Word2Vec - Unsupervised Model test\n",
    "\n",
    "The purpose of thie ipynb is to test  the Word2Vec feature generation method on unsupervised learning model,  kmeans."
   ]
  },
  {
   "cell_type": "code",
   "execution_count": 1,
   "metadata": {
    "datalore": {
     "hide_input_from_viewers": false,
     "hide_output_from_viewers": false,
     "node_id": "7q43rGAbn0aKlAqAvgCS4n",
     "report_properties": {
      "rowId": "TMyR1M476aRvAtdEJ2lB2o"
     },
     "type": "CODE"
    }
   },
   "outputs": [],
   "source": [
    "import nltk\n",
    "from nltk.corpus import reuters\n",
    "from nltk.corpus import stopwords\n",
    "import pandas as pd\n",
    "from gensim.models import Word2Vec\n",
    "import gensim\n",
    "import numpy as np\n",
    "from nltk.corpus import stopwords\n",
    "from sklearn.ensemble import RandomForestClassifier\n",
    "from sklearn.model_selection import train_test_split\n",
    "from sklearn.preprocessing import LabelEncoder\n",
    "import numpy as np\n",
    "import pandas as pd\n",
    "%matplotlib inline"
   ]
  },
  {
   "attachments": {},
   "cell_type": "markdown",
   "metadata": {
    "datalore": {
     "hide_input_from_viewers": true,
     "hide_output_from_viewers": true,
     "node_id": "baaphjw5dZasicIrLM7leU",
     "type": "MD"
    }
   },
   "source": [
    "## Dataset cleaning\n",
    "\n",
    "•\tWe set a threshold of minimum 30 articles per category to be used as our dataset\n",
    "\n",
    "•\tSince, this is a text classification problem, we did further cleaning and preprocessing such as:\n",
    "1.\tHTML Character Replacement\n",
    "2.\tRemoving Escape Sequences, such as newline or tab, and replacing it with a single space\n",
    "3.\tRemoving punctuation and numbers as they do not provide any useful information\n",
    "4.\tremoving commonly used words like 'the', 'and', 'in', etc, \n",
    "5.\tand finally converts all words to lowercase\n",
    "\n",
    "•\tAll this is done using Python built-in libraries and functions, and the Natural Language Toolkit \n",
    "\n",
    "•\tOnce the data is cleaned, it undergoes Word2Vec embeding as in 1.0.0. This is stored in new column called 'text_clean'."
   ]
  },
  {
   "cell_type": "code",
   "execution_count": 2,
   "metadata": {},
   "outputs": [],
   "source": [
    "stop_words = set(stopwords.words('english'))\n",
    "\n",
    "# Example usage\n",
    "documents = reuters.fileids()\n"
   ]
  },
  {
   "cell_type": "code",
   "execution_count": 3,
   "metadata": {},
   "outputs": [
    {
     "data": {
      "text/html": [
       "<div>\n",
       "<style scoped>\n",
       "    .dataframe tbody tr th:only-of-type {\n",
       "        vertical-align: middle;\n",
       "    }\n",
       "\n",
       "    .dataframe tbody tr th {\n",
       "        vertical-align: top;\n",
       "    }\n",
       "\n",
       "    .dataframe thead th {\n",
       "        text-align: right;\n",
       "    }\n",
       "</style>\n",
       "<table border=\"1\" class=\"dataframe\">\n",
       "  <thead>\n",
       "    <tr style=\"text-align: right;\">\n",
       "      <th></th>\n",
       "      <th>category</th>\n",
       "      <th>subject</th>\n",
       "      <th>content</th>\n",
       "    </tr>\n",
       "  </thead>\n",
       "  <tbody>\n",
       "    <tr>\n",
       "      <th>0</th>\n",
       "      <td>trade</td>\n",
       "      <td>ASIAN EXPORTERS FEAR DAMAGE FROM U.S.-JAPAN RIFT</td>\n",
       "      <td>Mounting trade friction between the\\n  U.S. ...</td>\n",
       "    </tr>\n",
       "    <tr>\n",
       "      <th>1</th>\n",
       "      <td>grain</td>\n",
       "      <td>CHINA DAILY SAYS VERMIN EAT 7-12 PCT GRAIN STOCKS</td>\n",
       "      <td>A survey of 19 provinces and seven cities\\n ...</td>\n",
       "    </tr>\n",
       "    <tr>\n",
       "      <th>2</th>\n",
       "      <td>ship</td>\n",
       "      <td>AUSTRALIAN FOREIGN SHIP BAN ENDS BUT NSW PORTS...</td>\n",
       "      <td>Tug crews in New South Wales (NSW),\\n  Victo...</td>\n",
       "    </tr>\n",
       "    <tr>\n",
       "      <th>3</th>\n",
       "      <td>gold</td>\n",
       "      <td>WESTERN MINING TO OPEN NEW GOLD MINE IN AUSTRALIA</td>\n",
       "      <td>Western Mining Corp Holdings Ltd\\n  &amp;lt;WMNG...</td>\n",
       "    </tr>\n",
       "    <tr>\n",
       "      <th>4</th>\n",
       "      <td>acq</td>\n",
       "      <td>SUMITOMO BANK AIMS AT QUICK RECOVERY FROM MERGER</td>\n",
       "      <td>Sumitomo Bank Ltd &amp;lt;SUMI.T&gt; is certain to\\...</td>\n",
       "    </tr>\n",
       "    <tr>\n",
       "      <th>...</th>\n",
       "      <td>...</td>\n",
       "      <td>...</td>\n",
       "      <td>...</td>\n",
       "    </tr>\n",
       "    <tr>\n",
       "      <th>9155</th>\n",
       "      <td>interest</td>\n",
       "      <td>FED SETS TWO BILLION DLR CUSTOMER REPURCHASE</td>\n",
       "      <td>The Federal Reserve entered the U.S.\\n  gove...</td>\n",
       "    </tr>\n",
       "    <tr>\n",
       "      <th>9156</th>\n",
       "      <td>earn</td>\n",
       "      <td>KNIGHT-RIDDER INC &amp;lt;KRN&gt; SETS QUARTERLY</td>\n",
       "      <td>Qtly div 25 cts vs 25 cts prior\\n      Pay A...</td>\n",
       "    </tr>\n",
       "    <tr>\n",
       "      <th>9157</th>\n",
       "      <td>earn</td>\n",
       "      <td>TECHNITROL INC &amp;lt;TNL&gt; SETS QUARTERLY</td>\n",
       "      <td>Qtly div 12 cts vs 12 cts prior\\n      Pay A...</td>\n",
       "    </tr>\n",
       "    <tr>\n",
       "      <th>9158</th>\n",
       "      <td>earn</td>\n",
       "      <td>NATIONWIDE CELLULAR SERVICE INC &amp;lt;NCEL&gt; 4TH QTR</td>\n",
       "      <td>Shr loss six cts vs loss 18 cts\\n      Net l...</td>\n",
       "    </tr>\n",
       "    <tr>\n",
       "      <th>9159</th>\n",
       "      <td>earn</td>\n",
       "      <td>&amp;lt;A.H.A. AUTOMOTIVE TECHNOLOGIES CORP&gt; YEAR NET</td>\n",
       "      <td>Shr 43 cts vs 52 cts\\n      Shr diluted 41 c...</td>\n",
       "    </tr>\n",
       "  </tbody>\n",
       "</table>\n",
       "<p>9160 rows × 3 columns</p>\n",
       "</div>"
      ],
      "text/plain": [
       "      category                                            subject  \\\n",
       "0        trade   ASIAN EXPORTERS FEAR DAMAGE FROM U.S.-JAPAN RIFT   \n",
       "1        grain  CHINA DAILY SAYS VERMIN EAT 7-12 PCT GRAIN STOCKS   \n",
       "2         ship  AUSTRALIAN FOREIGN SHIP BAN ENDS BUT NSW PORTS...   \n",
       "3         gold  WESTERN MINING TO OPEN NEW GOLD MINE IN AUSTRALIA   \n",
       "4          acq   SUMITOMO BANK AIMS AT QUICK RECOVERY FROM MERGER   \n",
       "...        ...                                                ...   \n",
       "9155  interest       FED SETS TWO BILLION DLR CUSTOMER REPURCHASE   \n",
       "9156      earn          KNIGHT-RIDDER INC &lt;KRN> SETS QUARTERLY   \n",
       "9157      earn             TECHNITROL INC &lt;TNL> SETS QUARTERLY   \n",
       "9158      earn  NATIONWIDE CELLULAR SERVICE INC &lt;NCEL> 4TH QTR   \n",
       "9159      earn  &lt;A.H.A. AUTOMOTIVE TECHNOLOGIES CORP> YEAR NET   \n",
       "\n",
       "                                                content  \n",
       "0       Mounting trade friction between the\\n  U.S. ...  \n",
       "1       A survey of 19 provinces and seven cities\\n ...  \n",
       "2       Tug crews in New South Wales (NSW),\\n  Victo...  \n",
       "3       Western Mining Corp Holdings Ltd\\n  &lt;WMNG...  \n",
       "4       Sumitomo Bank Ltd &lt;SUMI.T> is certain to\\...  \n",
       "...                                                 ...  \n",
       "9155    The Federal Reserve entered the U.S.\\n  gove...  \n",
       "9156    Qtly div 25 cts vs 25 cts prior\\n      Pay A...  \n",
       "9157    Qtly div 12 cts vs 12 cts prior\\n      Pay A...  \n",
       "9158    Shr loss six cts vs loss 18 cts\\n      Net l...  \n",
       "9159    Shr 43 cts vs 52 cts\\n      Shr diluted 41 c...  \n",
       "\n",
       "[9160 rows x 3 columns]"
      ]
     },
     "execution_count": 3,
     "metadata": {},
     "output_type": "execute_result"
    }
   ],
   "source": [
    "#this creates a dataframe that splits it into 'category', 'subject' and 'content'\n",
    "data = []\n",
    "\n",
    "# Loop over each news article in the Reuters corpus\n",
    "for article_id in documents:\n",
    "    # Get the categories, title, and text of the article\n",
    "    categories = reuters.categories(article_id)\n",
    "    subject, body = reuters.raw(article_id).split('\\n', maxsplit=1)\n",
    "    if len(categories)>1:\n",
    "        continue\n",
    "    # Add a new row for each category\n",
    "    for category in categories:\n",
    "        # Store the data in a dictionary\n",
    "        data.append({'category': category, 'subject': subject, 'content': body})\n",
    "\n",
    "# Create a DataFrame from the data\n",
    "reuters_df = pd.DataFrame(data)\n",
    "\n",
    "# Show a few rows of the DataFrame\n",
    "reuters_df"
   ]
  },
  {
   "cell_type": "code",
   "execution_count": 4,
   "metadata": {},
   "outputs": [
    {
     "data": {
      "text/html": [
       "<div>\n",
       "<style scoped>\n",
       "    .dataframe tbody tr th:only-of-type {\n",
       "        vertical-align: middle;\n",
       "    }\n",
       "\n",
       "    .dataframe tbody tr th {\n",
       "        vertical-align: top;\n",
       "    }\n",
       "\n",
       "    .dataframe thead th {\n",
       "        text-align: right;\n",
       "    }\n",
       "</style>\n",
       "<table border=\"1\" class=\"dataframe\">\n",
       "  <thead>\n",
       "    <tr style=\"text-align: right;\">\n",
       "      <th></th>\n",
       "      <th>category</th>\n",
       "      <th>subject</th>\n",
       "      <th>content</th>\n",
       "      <th>text_clean</th>\n",
       "    </tr>\n",
       "  </thead>\n",
       "  <tbody>\n",
       "    <tr>\n",
       "      <th>0</th>\n",
       "      <td>trade</td>\n",
       "      <td>ASIAN EXPORTERS FEAR DAMAGE FROM U.S.-JAPAN RIFT</td>\n",
       "      <td>Mounting trade friction between the\\n  U.S. ...</td>\n",
       "      <td>[mounting, trade, friction, between, the, and,...</td>\n",
       "    </tr>\n",
       "    <tr>\n",
       "      <th>1</th>\n",
       "      <td>grain</td>\n",
       "      <td>CHINA DAILY SAYS VERMIN EAT 7-12 PCT GRAIN STOCKS</td>\n",
       "      <td>A survey of 19 provinces and seven cities\\n ...</td>\n",
       "      <td>[survey, of, provinces, and, seven, cities, sh...</td>\n",
       "    </tr>\n",
       "    <tr>\n",
       "      <th>2</th>\n",
       "      <td>ship</td>\n",
       "      <td>AUSTRALIAN FOREIGN SHIP BAN ENDS BUT NSW PORTS...</td>\n",
       "      <td>Tug crews in New South Wales (NSW),\\n  Victo...</td>\n",
       "      <td>[tug, crews, in, new, south, wales, nsw, victo...</td>\n",
       "    </tr>\n",
       "    <tr>\n",
       "      <th>3</th>\n",
       "      <td>gold</td>\n",
       "      <td>WESTERN MINING TO OPEN NEW GOLD MINE IN AUSTRALIA</td>\n",
       "      <td>Western Mining Corp Holdings Ltd\\n  &amp;lt;WMNG...</td>\n",
       "      <td>[western, mining, corp, holdings, ltd, lt, wmn...</td>\n",
       "    </tr>\n",
       "    <tr>\n",
       "      <th>4</th>\n",
       "      <td>acq</td>\n",
       "      <td>SUMITOMO BANK AIMS AT QUICK RECOVERY FROM MERGER</td>\n",
       "      <td>Sumitomo Bank Ltd &amp;lt;SUMI.T&gt; is certain to\\...</td>\n",
       "      <td>[sumitomo, bank, ltd, lt, sumi, is, certain, t...</td>\n",
       "    </tr>\n",
       "  </tbody>\n",
       "</table>\n",
       "</div>"
      ],
      "text/plain": [
       "  category                                            subject  \\\n",
       "0    trade   ASIAN EXPORTERS FEAR DAMAGE FROM U.S.-JAPAN RIFT   \n",
       "1    grain  CHINA DAILY SAYS VERMIN EAT 7-12 PCT GRAIN STOCKS   \n",
       "2     ship  AUSTRALIAN FOREIGN SHIP BAN ENDS BUT NSW PORTS...   \n",
       "3     gold  WESTERN MINING TO OPEN NEW GOLD MINE IN AUSTRALIA   \n",
       "4      acq   SUMITOMO BANK AIMS AT QUICK RECOVERY FROM MERGER   \n",
       "\n",
       "                                             content  \\\n",
       "0    Mounting trade friction between the\\n  U.S. ...   \n",
       "1    A survey of 19 provinces and seven cities\\n ...   \n",
       "2    Tug crews in New South Wales (NSW),\\n  Victo...   \n",
       "3    Western Mining Corp Holdings Ltd\\n  &lt;WMNG...   \n",
       "4    Sumitomo Bank Ltd &lt;SUMI.T> is certain to\\...   \n",
       "\n",
       "                                          text_clean  \n",
       "0  [mounting, trade, friction, between, the, and,...  \n",
       "1  [survey, of, provinces, and, seven, cities, sh...  \n",
       "2  [tug, crews, in, new, south, wales, nsw, victo...  \n",
       "3  [western, mining, corp, holdings, ltd, lt, wmn...  \n",
       "4  [sumitomo, bank, ltd, lt, sumi, is, certain, t...  "
      ]
     },
     "execution_count": 4,
     "metadata": {},
     "output_type": "execute_result"
    }
   ],
   "source": [
    "reuters_df['text_clean'] = reuters_df['content'].apply(lambda x: gensim.utils.simple_preprocess(x))\n",
    "reuters_df.head()"
   ]
  },
  {
   "cell_type": "code",
   "execution_count": 5,
   "metadata": {},
   "outputs": [
    {
     "name": "stdout",
     "output_type": "stream",
     "text": [
      "Number of categories with counts larger than 30 : 24\n",
      "earn            3923\n",
      "acq             2292\n",
      "crude            374\n",
      "trade            326\n",
      "money-fx         309\n",
      "interest         272\n",
      "money-supply     151\n",
      "ship             144\n",
      "sugar            122\n",
      "coffee           112\n",
      "gold              90\n",
      "gnp               74\n",
      "cpi               71\n",
      "cocoa             61\n",
      "grain             51\n",
      "alum              50\n",
      "reserves          49\n",
      "jobs              49\n",
      "ipi               45\n",
      "copper            44\n",
      "rubber            40\n",
      "iron-steel        38\n",
      "nat-gas           36\n",
      "bop               31\n",
      "Name: category, dtype: int64\n"
     ]
    },
    {
     "data": {
      "text/html": [
       "<div>\n",
       "<style scoped>\n",
       "    .dataframe tbody tr th:only-of-type {\n",
       "        vertical-align: middle;\n",
       "    }\n",
       "\n",
       "    .dataframe tbody tr th {\n",
       "        vertical-align: top;\n",
       "    }\n",
       "\n",
       "    .dataframe thead th {\n",
       "        text-align: right;\n",
       "    }\n",
       "</style>\n",
       "<table border=\"1\" class=\"dataframe\">\n",
       "  <thead>\n",
       "    <tr style=\"text-align: right;\">\n",
       "      <th></th>\n",
       "      <th>category</th>\n",
       "      <th>subject</th>\n",
       "      <th>content</th>\n",
       "      <th>text_clean</th>\n",
       "    </tr>\n",
       "  </thead>\n",
       "  <tbody>\n",
       "    <tr>\n",
       "      <th>0</th>\n",
       "      <td>trade</td>\n",
       "      <td>ASIAN EXPORTERS FEAR DAMAGE FROM U.S.-JAPAN RIFT</td>\n",
       "      <td>Mounting trade friction between the\\n  U.S. ...</td>\n",
       "      <td>[mounting, trade, friction, between, the, and,...</td>\n",
       "    </tr>\n",
       "    <tr>\n",
       "      <th>1</th>\n",
       "      <td>grain</td>\n",
       "      <td>CHINA DAILY SAYS VERMIN EAT 7-12 PCT GRAIN STOCKS</td>\n",
       "      <td>A survey of 19 provinces and seven cities\\n ...</td>\n",
       "      <td>[survey, of, provinces, and, seven, cities, sh...</td>\n",
       "    </tr>\n",
       "    <tr>\n",
       "      <th>2</th>\n",
       "      <td>ship</td>\n",
       "      <td>AUSTRALIAN FOREIGN SHIP BAN ENDS BUT NSW PORTS...</td>\n",
       "      <td>Tug crews in New South Wales (NSW),\\n  Victo...</td>\n",
       "      <td>[tug, crews, in, new, south, wales, nsw, victo...</td>\n",
       "    </tr>\n",
       "    <tr>\n",
       "      <th>3</th>\n",
       "      <td>gold</td>\n",
       "      <td>WESTERN MINING TO OPEN NEW GOLD MINE IN AUSTRALIA</td>\n",
       "      <td>Western Mining Corp Holdings Ltd\\n  &amp;lt;WMNG...</td>\n",
       "      <td>[western, mining, corp, holdings, ltd, lt, wmn...</td>\n",
       "    </tr>\n",
       "    <tr>\n",
       "      <th>4</th>\n",
       "      <td>acq</td>\n",
       "      <td>SUMITOMO BANK AIMS AT QUICK RECOVERY FROM MERGER</td>\n",
       "      <td>Sumitomo Bank Ltd &amp;lt;SUMI.T&gt; is certain to\\...</td>\n",
       "      <td>[sumitomo, bank, ltd, lt, sumi, is, certain, t...</td>\n",
       "    </tr>\n",
       "    <tr>\n",
       "      <th>...</th>\n",
       "      <td>...</td>\n",
       "      <td>...</td>\n",
       "      <td>...</td>\n",
       "      <td>...</td>\n",
       "    </tr>\n",
       "    <tr>\n",
       "      <th>8779</th>\n",
       "      <td>interest</td>\n",
       "      <td>FED SETS TWO BILLION DLR CUSTOMER REPURCHASE</td>\n",
       "      <td>The Federal Reserve entered the U.S.\\n  gove...</td>\n",
       "      <td>[the, federal, reserve, entered, the, governme...</td>\n",
       "    </tr>\n",
       "    <tr>\n",
       "      <th>8780</th>\n",
       "      <td>earn</td>\n",
       "      <td>KNIGHT-RIDDER INC &amp;lt;KRN&gt; SETS QUARTERLY</td>\n",
       "      <td>Qtly div 25 cts vs 25 cts prior\\n      Pay A...</td>\n",
       "      <td>[qtly, div, cts, vs, cts, prior, pay, april, r...</td>\n",
       "    </tr>\n",
       "    <tr>\n",
       "      <th>8781</th>\n",
       "      <td>earn</td>\n",
       "      <td>TECHNITROL INC &amp;lt;TNL&gt; SETS QUARTERLY</td>\n",
       "      <td>Qtly div 12 cts vs 12 cts prior\\n      Pay A...</td>\n",
       "      <td>[qtly, div, cts, vs, cts, prior, pay, april, r...</td>\n",
       "    </tr>\n",
       "    <tr>\n",
       "      <th>8782</th>\n",
       "      <td>earn</td>\n",
       "      <td>NATIONWIDE CELLULAR SERVICE INC &amp;lt;NCEL&gt; 4TH QTR</td>\n",
       "      <td>Shr loss six cts vs loss 18 cts\\n      Net l...</td>\n",
       "      <td>[shr, loss, six, cts, vs, loss, cts, net, loss...</td>\n",
       "    </tr>\n",
       "    <tr>\n",
       "      <th>8783</th>\n",
       "      <td>earn</td>\n",
       "      <td>&amp;lt;A.H.A. AUTOMOTIVE TECHNOLOGIES CORP&gt; YEAR NET</td>\n",
       "      <td>Shr 43 cts vs 52 cts\\n      Shr diluted 41 c...</td>\n",
       "      <td>[shr, cts, vs, cts, shr, diluted, cts, vs, cts...</td>\n",
       "    </tr>\n",
       "  </tbody>\n",
       "</table>\n",
       "<p>8784 rows × 4 columns</p>\n",
       "</div>"
      ],
      "text/plain": [
       "      category                                            subject  \\\n",
       "0        trade   ASIAN EXPORTERS FEAR DAMAGE FROM U.S.-JAPAN RIFT   \n",
       "1        grain  CHINA DAILY SAYS VERMIN EAT 7-12 PCT GRAIN STOCKS   \n",
       "2         ship  AUSTRALIAN FOREIGN SHIP BAN ENDS BUT NSW PORTS...   \n",
       "3         gold  WESTERN MINING TO OPEN NEW GOLD MINE IN AUSTRALIA   \n",
       "4          acq   SUMITOMO BANK AIMS AT QUICK RECOVERY FROM MERGER   \n",
       "...        ...                                                ...   \n",
       "8779  interest       FED SETS TWO BILLION DLR CUSTOMER REPURCHASE   \n",
       "8780      earn          KNIGHT-RIDDER INC &lt;KRN> SETS QUARTERLY   \n",
       "8781      earn             TECHNITROL INC &lt;TNL> SETS QUARTERLY   \n",
       "8782      earn  NATIONWIDE CELLULAR SERVICE INC &lt;NCEL> 4TH QTR   \n",
       "8783      earn  &lt;A.H.A. AUTOMOTIVE TECHNOLOGIES CORP> YEAR NET   \n",
       "\n",
       "                                                content  \\\n",
       "0       Mounting trade friction between the\\n  U.S. ...   \n",
       "1       A survey of 19 provinces and seven cities\\n ...   \n",
       "2       Tug crews in New South Wales (NSW),\\n  Victo...   \n",
       "3       Western Mining Corp Holdings Ltd\\n  &lt;WMNG...   \n",
       "4       Sumitomo Bank Ltd &lt;SUMI.T> is certain to\\...   \n",
       "...                                                 ...   \n",
       "8779    The Federal Reserve entered the U.S.\\n  gove...   \n",
       "8780    Qtly div 25 cts vs 25 cts prior\\n      Pay A...   \n",
       "8781    Qtly div 12 cts vs 12 cts prior\\n      Pay A...   \n",
       "8782    Shr loss six cts vs loss 18 cts\\n      Net l...   \n",
       "8783    Shr 43 cts vs 52 cts\\n      Shr diluted 41 c...   \n",
       "\n",
       "                                             text_clean  \n",
       "0     [mounting, trade, friction, between, the, and,...  \n",
       "1     [survey, of, provinces, and, seven, cities, sh...  \n",
       "2     [tug, crews, in, new, south, wales, nsw, victo...  \n",
       "3     [western, mining, corp, holdings, ltd, lt, wmn...  \n",
       "4     [sumitomo, bank, ltd, lt, sumi, is, certain, t...  \n",
       "...                                                 ...  \n",
       "8779  [the, federal, reserve, entered, the, governme...  \n",
       "8780  [qtly, div, cts, vs, cts, prior, pay, april, r...  \n",
       "8781  [qtly, div, cts, vs, cts, prior, pay, april, r...  \n",
       "8782  [shr, loss, six, cts, vs, loss, cts, net, loss...  \n",
       "8783  [shr, cts, vs, cts, shr, diluted, cts, vs, cts...  \n",
       "\n",
       "[8784 rows x 4 columns]"
      ]
     },
     "execution_count": 5,
     "metadata": {},
     "output_type": "execute_result"
    }
   ],
   "source": [
    "#set minimum threshold for each category\n",
    "threshold = 30\n",
    "\n",
    "list_filteredCategory = reuters_df[\"category\"].value_counts()[reuters_df[\"category\"].value_counts()>threshold].index.tolist()\n",
    "print(f\"Number of categories with counts larger than {threshold} : {len(list_filteredCategory)}\")\n",
    "print(reuters_df[\"category\"].value_counts()[reuters_df[\"category\"].value_counts()>threshold])\n",
    "# group the dataframe by the 'category' column and filter out the groups with counts less than the threshold\n",
    "reuters_df = reuters_df.groupby('category').filter(lambda x: len(x) >= threshold)\n",
    "reuters_df = reuters_df.reset_index(drop=True)\n",
    "reuters_df"
   ]
  },
  {
   "cell_type": "code",
   "execution_count": 6,
   "metadata": {},
   "outputs": [
    {
     "data": {
      "text/plain": [
       "677"
      ]
     },
     "execution_count": 6,
     "metadata": {},
     "output_type": "execute_result"
    }
   ],
   "source": [
    "len(reuters_df[\"text_clean\"][0])"
   ]
  },
  {
   "attachments": {},
   "cell_type": "markdown",
   "metadata": {},
   "source": [
    "## Data preprocessing\n",
    "\n",
    "The steps include:\n",
    "\n",
    "**Label Encoding**: The LabelEncoder from sklearn is used to transform the categorical labels in the \"category\" column into numerical labels that can be used by machine learning algorithms. The transformed labels are stored in a new column 'label'.\n",
    "\n",
    "**Train-Test Split**: The data is split into a training set and a test set, with 80% of the data used for training and 20% used for testing.\n",
    "\n",
    "**Word2Vec Model Training**: A Word2Vec model is trained on the training set. This model generates a 100-dimensional vector for each word, considering a window of 5 words at a time. A word must appear at least twice in the corpus to be included in the model.\n",
    "\n",
    "**Vectorization**: For each sentence in the training and test sets, the Word2Vec vectors of the words in the sentence are averaged to create a single vector representation of the sentence. This is done only for words that are present in the Word2Vec model's vocabulary.\n",
    "\n",
    "**Handling Empty Vectors**: If a sentence doesn't contain any words present in the Word2Vec model's vocabulary, it results in an empty vector. To handle this, if a vector is empty, it's replaced with a zero vector of the same dimensionality as the Word2Vec vectors.\n",
    "\n",
    "**Ensuring Matching Lengths**: It checks to ensure the length of the features (X_train_vect) matches the length of the target variable (y_train). If they don't match, it trims the longer one to match the length of the shorter one.\n"
   ]
  },
  {
   "cell_type": "code",
   "execution_count": 7,
   "metadata": {},
   "outputs": [],
   "source": [
    "le = LabelEncoder()\n",
    "reuters_df['label'] = le.fit_transform(reuters_df[\"category\"])\n",
    "#categories\n",
    "\n",
    "# Split data into train and test sets\n",
    "X_train, X_test, y_train, y_test = train_test_split (reuters_df['text_clean'], reuters_df['label'] , test_size=0.2)"
   ]
  },
  {
   "cell_type": "code",
   "execution_count": 8,
   "metadata": {},
   "outputs": [],
   "source": [
    "w2v_model = gensim.models.Word2Vec(X_train,\n",
    "                                   vector_size=100,\n",
    "                                   window=5,\n",
    "                                   min_count=2)"
   ]
  },
  {
   "cell_type": "code",
   "execution_count": 9,
   "metadata": {},
   "outputs": [],
   "source": [
    "# w2v_model.wv.index_to_key"
   ]
  },
  {
   "cell_type": "code",
   "execution_count": 9,
   "metadata": {},
   "outputs": [],
   "source": [
    "words = set(w2v_model.wv.index_to_key)\n",
    "X_train_vect = np.array([np.array([w2v_model.wv[i] for i in ls if i in words]).mean(axis=0)\n",
    "                         for ls in X_train])\n",
    "X_test_vect = np.array([np.array([w2v_model.wv[i] for i in ls if i in words]).mean(axis=0)\n",
    "                         for ls in X_test])"
   ]
  },
  {
   "cell_type": "code",
   "execution_count": 10,
   "metadata": {},
   "outputs": [],
   "source": [
    "# Compute sentence vectors by averaging the word vectors for the words contained in the sentence\n",
    "X_train_vect_avg = []\n",
    "for v in X_train_vect:\n",
    "    if v.size:\n",
    "        X_train_vect_avg.append(v.mean(axis=0))\n",
    "    else:\n",
    "        X_train_vect_avg.append(np.zeros(100, dtype=float))\n",
    "        \n",
    "X_test_vect_avg = []\n",
    "for v in X_test_vect:\n",
    "    if v.size:\n",
    "        X_test_vect_avg.append(v.mean(axis=0))\n",
    "    else:\n",
    "        X_test_vect_avg.append(np.zeros(100, dtype=float))"
   ]
  },
  {
   "cell_type": "code",
   "execution_count": 11,
   "metadata": {},
   "outputs": [
    {
     "data": {
      "text/plain": [
       "7027"
      ]
     },
     "execution_count": 11,
     "metadata": {},
     "output_type": "execute_result"
    }
   ],
   "source": [
    "len(X_train_vect_avg)"
   ]
  },
  {
   "cell_type": "code",
   "execution_count": 12,
   "metadata": {},
   "outputs": [],
   "source": [
    "if len(y_train) < len(X_train_vect):\n",
    "    X_train_vect = X_train_vect[:len(y_train)]\n",
    "elif len(y_train) > len(X_train_vect):\n",
    "    y_train = y_train[:len(X_train_vect)]\n"
   ]
  },
  {
   "attachments": {},
   "cell_type": "markdown",
   "metadata": {},
   "source": [
    "## kMeans testing"
   ]
  },
  {
   "cell_type": "code",
   "execution_count": 15,
   "metadata": {},
   "outputs": [],
   "source": [
    "from sklearn.cluster import KMeans\n",
    "from sklearn.metrics import accuracy_score, confusion_matrix, normalized_mutual_info_score, precision_score, recall_score\n"
   ]
  },
  {
   "cell_type": "code",
   "execution_count": 17,
   "metadata": {},
   "outputs": [],
   "source": [
    "kmeans = KMeans(n_clusters=24, random_state=42)\n",
    "y_pred = kmeans.fit_predict(X_train_vect)\n",
    "accuracy = accuracy_score(y_train, y_pred)"
   ]
  },
  {
   "cell_type": "code",
   "execution_count": 18,
   "metadata": {},
   "outputs": [
    {
     "name": "stdout",
     "output_type": "stream",
     "text": [
      "0.014373132204354632\n"
     ]
    }
   ],
   "source": [
    "print(accuracy)"
   ]
  }
 ],
 "metadata": {
  "datalore": {
   "base_environment": "default",
   "computation_mode": "JUPYTER",
   "package_manager": "pip",
   "packages": [
    {
     "name": "nltk",
     "source": "PIP",
     "version": "3.8.1"
    },
    {
     "name": "umap",
     "source": "PIP",
     "version": "0.1.1"
    },
    {
     "name": "umap-learn",
     "source": "PIP",
     "version": "0.5.3"
    }
   ],
   "report_row_ids": [
    "u6LTQPlOHwjW8QonAlWPRw",
    "TMyR1M476aRvAtdEJ2lB2o",
    "Iir7b60B1v22iZarirWbAl",
    "sJabOn0ov4ZjSMq4aEyDCl",
    "HjsgnIODGokPkzsajLQEgS",
    "gNsM6o95VGG4nbvSzdMBon",
    "ScJ0R81K8crwRDJXv8G1jG",
    "h8Msz74vM0OFAR31JPsQlc",
    "N5f92IE0uqWUizQRMMENuB",
    "3n6ntJTkKE1oX1COvJOhZj",
    "ae3yd1HgokN38tbO7tDeiJ",
    "OMCT04A6OyZsO9mFp3p9Rw",
    "utWL8XT1ZTwd5O6zB4p4hS",
    "LXXrkRCuqPA5ioDjltPr54",
    "6AVGn0iWD84qvj59L17YO7",
    "SFuRaLB9ZRvpo7Z2MBoVcy",
    "gBLhVS6bPl5nfOrDzXJClI",
    "Z7caAYctP5scwM7ENXK6lJ",
    "UVzLz6Et9SJX5Yh7nFSk1W"
   ],
   "version": 3
  },
  "kernelspec": {
   "display_name": "machinelearning2",
   "language": "python",
   "name": "python3"
  },
  "language_info": {
   "codemirror_mode": {
    "name": "ipython",
    "version": 3
   },
   "file_extension": ".py",
   "mimetype": "text/x-python",
   "name": "python",
   "nbconvert_exporter": "python",
   "pygments_lexer": "ipython3",
   "version": "3.11.3"
  }
 },
 "nbformat": 4,
 "nbformat_minor": 4
}
